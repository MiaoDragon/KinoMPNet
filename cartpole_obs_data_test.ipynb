{
 "cells": [
  {
   "cell_type": "code",
   "execution_count": 1,
   "metadata": {},
   "outputs": [
    {
     "name": "stdout",
     "output_type": "stream",
     "text": [
      "generated.\n",
      "(6, 2)\n"
     ]
    }
   ],
   "source": [
    "from ctypes import *\n",
    "#ctypes.cdll.LoadLibrary('')\n",
    "#lib1 = CDLL(\"deps/sparse_rrt/deps/trajopt/build/lib/libsco.so\")\n",
    "#lib2 = CDLL(\"deps/sparse_rrt/deps/trajopt/build/lib/libutils.so\")\n",
    "\n",
    "import sys\n",
    "sys.path.append('deps/sparse_rrt')\n",
    "sys.path.append('.')\n",
    "\n",
    "from sparse_rrt.planners import SST\n",
    "from env.cartpole_obs import CartPoleObs\n",
    "from env.cartpole import CartPole\n",
    "from sparse_rrt.systems import standard_cpp_systems\n",
    "from sparse_rrt import _sst_module\n",
    "import numpy as np\n",
    "import time\n",
    "from tools.pcd_generation import rectangle_pcd\n",
    "\n",
    "import pickle\n",
    "obs_list = []\n",
    "width = 4.\n",
    "near = width * 1.2\n",
    "H = 0.5\n",
    "L = 2.5\n",
    "\n",
    "# convert from obs to point cloud\n",
    "# load generated point cloud\n",
    "file = open('data/cartpole_obs/obs.pkl', 'rb')\n",
    "obs_list_total = pickle.load(file)\n",
    "file = open('data/cartpole_obs/obc.pkl', 'rb')\n",
    "obc_list_total = pickle.load(file)\n",
    "\n",
    "\n",
    "obs_idx = 0\n",
    "p_idx = 1\n",
    "# Create custom system\n",
    "#obs_list = [[-10., -3.],\n",
    "#            [0., 3.],\n",
    "#            [10, -3.]]\n",
    "obs_list = obs_list_total[obs_idx]\n",
    "obc_list = obc_list_total[obs_idx]\n",
    "print('generated.')\n",
    "print(obs_list.shape)"
   ]
  },
  {
   "cell_type": "code",
   "execution_count": 2,
   "metadata": {},
   "outputs": [],
   "source": [
    "# load path\n",
    "path = open('data/cartpole_obs/%d/path_%d.pkl' % (obs_idx, p_idx), 'rb')\n",
    "path = pickle.load(path)\n",
    "controls = open('data/cartpole_obs/%d/control_%d.pkl' % (obs_idx, p_idx), 'rb')\n",
    "controls = pickle.load(controls)"
   ]
  },
  {
   "cell_type": "code",
   "execution_count": 3,
   "metadata": {},
   "outputs": [],
   "source": [
    "# visualize the path\n",
    "\"\"\"\n",
    "Given a list of states, render the environment\n",
    "\"\"\"\n",
    "from numpy import sin, cos\n",
    "import numpy as np\n",
    "import matplotlib.pyplot as plt\n",
    "import scipy.integrate as integrate\n",
    "import matplotlib.animation as animation\n",
    "import matplotlib as mpl\n",
    "import matplotlib.patches as patches\n",
    "from IPython.display import HTML\n",
    "from visual.visualizer import Visualizer\n",
    "\n",
    "\n",
    "\n",
    "class CartPoleVisualizer(Visualizer):\n",
    "    def __init__(self, system, params):\n",
    "        super(CartPoleVisualizer, self).__init__(system, params)\n",
    "        self.dt = 0.05\n",
    "\n",
    "    def _init(self):\n",
    "        # clear the current ax\n",
    "        ax = plt.gca()\n",
    "        ax.clear()\n",
    "        # add patches\n",
    "        state = self.states[0]\n",
    "        self.pole = patches.Rectangle((state[0]-self.params['pole_w']/2,self.params['cart_h']),\\\n",
    "                                       self.params['pole_w'],self.params['pole_l'],\\\n",
    "                                      linewidth=.5,edgecolor='red',facecolor='red')\n",
    "        self.cart = patches.Rectangle((state[0]-self.params['cart_w']/2,0),\\\n",
    "                                       self.params['cart_w'],self.params['cart_h'],\\\n",
    "                                      linewidth=.5,edgecolor='blue',facecolor='blue')\n",
    "        self.recs = []\n",
    "        self.recs.append(self.pole)\n",
    "        self.recs.append(self.cart)\n",
    "        for i in range(len(self.obs)):\n",
    "            x, y = self.obs[i]\n",
    "            obs = patches.Rectangle((x-self.params['obs_w']/2,y-params['obs_h']/2),\\\n",
    "                                       self.params['obs_w'],self.params['obs_h'],\\\n",
    "                                      linewidth=.5,edgecolor='black',facecolor='black')\n",
    "            self.recs.append(obs)\n",
    "            ax.add_patch(obs)\n",
    "        # transform pole according to state\n",
    "        t = mpl.transforms.Affine2D().rotate_deg_around(state[0], self.params['cart_h'], \\\n",
    "                                                        -state[2]/np.pi * 180) + ax.transData\n",
    "        self.pole.set_transform(t)\n",
    "        ax.add_patch(self.pole)\n",
    "        ax.add_patch(self.cart)\n",
    "        return self.recs\n",
    "    def _animate(self, i):\n",
    "        ax = plt.gca()\n",
    "        ax.set_xlim(-40, 40)\n",
    "        ax.set_ylim(-20, 20)\n",
    "        state = self.states[i]\n",
    "        self.recs[0].set_xy((state[0]-self.params['pole_w']/2,self.params['cart_h']))\n",
    "        t = mpl.transforms.Affine2D().rotate_deg_around(state[0], self.params['cart_h'], \\\n",
    "                                                        -state[2]/np.pi * 180) + ax.transData\n",
    "        self.recs[0].set_transform(t)\n",
    "        self.recs[1].set_xy((state[0]-self.params['cart_w']/2,params['cart_h']))\n",
    "        # print location of cart\n",
    "        return self.recs\n",
    "\n",
    "\n",
    " \n",
    "    def animate(self, states, actions, obstacles):\n",
    "        '''\n",
    "        given a list of states, actions and obstacles, animate the robot\n",
    "        '''\n",
    "        # transform the waypoint states and actions into trajectory\n",
    "        traj = []\n",
    "        for i in range(len(states)-1):\n",
    "            print('state: %d, remaining: %d' % (i, len(states)-i))\n",
    "            s = states[i]\n",
    "            action = actions[i]\n",
    "            sT = states[i+1]\n",
    "            # propogate until reaching next state\n",
    "            while True:\n",
    "                traj.append(np.array(s))\n",
    "                #print(\"porpagating...\")\n",
    "                #print(s)\n",
    "                #print('st:')\n",
    "                #print(sT)\n",
    "                s = self.system.propagate(s, action, 1, self.params['integration_step'])\n",
    "                if np.linalg.norm(s-sT) == 0.:\n",
    "                    break\n",
    "        traj = np.array(traj)\n",
    "        print(\"animating...\")\n",
    "        # animate\n",
    "        self.states = traj\n",
    "        self.obs = obstacles\n",
    "        print(len(self.states))\n",
    "        ani = animation.FuncAnimation(plt.gcf(), self._animate, range(0, len(self.states)),\n",
    "                                      interval=self.dt*10, blit=True, init_func=self._init,\n",
    "                                      repeat=True)\n",
    "        return ani\n"
   ]
  },
  {
   "cell_type": "code",
   "execution_count": 4,
   "metadata": {},
   "outputs": [
    {
     "name": "stdout",
     "output_type": "stream",
     "text": [
      "state: 0, remaining: 43\n",
      "state: 1, remaining: 42\n",
      "state: 2, remaining: 41\n",
      "state: 3, remaining: 40\n",
      "state: 4, remaining: 39\n",
      "state: 5, remaining: 38\n",
      "state: 6, remaining: 37\n",
      "state: 7, remaining: 36\n",
      "state: 8, remaining: 35\n",
      "state: 9, remaining: 34\n",
      "state: 10, remaining: 33\n",
      "state: 11, remaining: 32\n",
      "state: 12, remaining: 31\n",
      "state: 13, remaining: 30\n",
      "state: 14, remaining: 29\n",
      "state: 15, remaining: 28\n",
      "state: 16, remaining: 27\n",
      "state: 17, remaining: 26\n",
      "state: 18, remaining: 25\n",
      "state: 19, remaining: 24\n",
      "state: 20, remaining: 23\n",
      "state: 21, remaining: 22\n",
      "state: 22, remaining: 21\n",
      "state: 23, remaining: 20\n",
      "state: 24, remaining: 19\n",
      "state: 25, remaining: 18\n",
      "state: 26, remaining: 17\n",
      "state: 27, remaining: 16\n",
      "state: 28, remaining: 15\n",
      "state: 29, remaining: 14\n",
      "state: 30, remaining: 13\n",
      "state: 31, remaining: 12\n",
      "state: 32, remaining: 11\n",
      "state: 33, remaining: 10\n",
      "state: 34, remaining: 9\n",
      "state: 35, remaining: 8\n",
      "state: 36, remaining: 7\n",
      "state: 37, remaining: 6\n",
      "state: 38, remaining: 5\n",
      "state: 39, remaining: 4\n",
      "state: 40, remaining: 3\n",
      "state: 41, remaining: 2\n",
      "animating...\n",
      "5437\n"
     ]
    },
    {
     "data": {
      "image/png": "[encoded data removed]",
      "text/plain": [
       "<Figure size 432x288 with 1 Axes>"
      ]
     },
     "metadata": {
      "needs_background": "light"
     },
     "output_type": "display_data"
    }
   ],
   "source": [
    "params = {}\n",
    "params['pole_l'] = 2.5\n",
    "params['pole_w'] = 0.1\n",
    "params['cart_w'] = 1.\n",
    "params['cart_h'] = 0.5\n",
    "params['obs_w'] = 4\n",
    "params['obs_h'] = 4\n",
    "params['integration_step'] = 0.002\n",
    "system = CartPole(obs_list)\n",
    "vis = CartPoleVisualizer(system, params)\n",
    "states = path\n",
    "actions = controls\n",
    "anim = vis.animate(np.array(states), np.array(actions), obs_list)\n",
    "#HTML(anim.to_html5_video())\n",
    "anim.save('cartpole_env%d_path%d.mp4' % (obs_idx, p_idx))"
   ]
  },
  {
   "cell_type": "code",
   "execution_count": 5,
   "metadata": {},
   "outputs": [
    {
     "name": "stdout",
     "output_type": "stream",
     "text": [
      "(6, 1400, 2)\n",
      "(8400, 2)\n"
     ]
    },
    {
     "data": {
      "image/png": "[encoded data removed]",
      "text/plain": [
       "<Figure size 432x288 with 1 Axes>"
      ]
     },
     "metadata": {
      "needs_background": "light"
     },
     "output_type": "display_data"
    }
   ],
   "source": [
    "# visualize point cloud\n",
    "import matplotlib.pyplot as plt\n",
    "print(obc_list.shape)\n",
    "obc_all = np.concatenate(obc_list_total[1], axis=0)\n",
    "print(obc_all.shape)\n",
    "plt.scatter(obc_all[:,0], obc_all[:,1])\n",
    "plt.show()"
   ]
  },
  {
   "cell_type": "code",
   "execution_count": 6,
   "metadata": {},
   "outputs": [
    {
     "name": "stdout",
     "output_type": "stream",
     "text": [
      "(8400, 2)\n"
     ]
    },
    {
     "data": {
      "image/png": "[encoded data removed]",
      "text/plain": [
       "<Figure size 432x288 with 1 Axes>"
      ]
     },
     "metadata": {
      "needs_background": "light"
     },
     "output_type": "display_data"
    },
    {
     "name": "stdout",
     "output_type": "stream",
     "text": [
      "(8400, 2)\n"
     ]
    },
    {
     "data": {
      "image/png": "[encoded data removed]",
      "text/plain": [
       "<Figure size 432x288 with 1 Axes>"
      ]
     },
     "metadata": {
      "needs_background": "light"
     },
     "output_type": "display_data"
    }
   ],
   "source": [
    "for i in range(2):\n",
    "    obc_all = np.concatenate(obc_list_total[i], axis=0)\n",
    "    print(obc_all.shape)\n",
    "    plt.scatter(obc_all[:,0], obc_all[:,1])\n",
    "    plt.show()"
   ]
  }
 ],
 "metadata": {
  "anaconda-cloud": {},
  "kernelspec": {
   "display_name": "Python [conda env:ylmiao_kino] *",
   "language": "python",
   "name": "conda-env-ylmiao_kino-py"
  },
  "language_info": {
   "codemirror_mode": {
    "name": "ipython",
    "version": 3
   },
   "file_extension": ".py",
   "mimetype": "text/x-python",
   "name": "python",
   "nbconvert_exporter": "python",
   "pygments_lexer": "ipython3",
   "version": "3.6.10"
  }
 },
 "nbformat": 4,
 "nbformat_minor": 1
}
