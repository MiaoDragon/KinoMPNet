{
 "cells": [
  {
   "cell_type": "code",
   "execution_count": 1,
   "metadata": {
    "collapsed": false
   },
   "outputs": [
    {
     "name": "stdout",
     "output_type": "stream",
     "text": [
      "generated.\n",
      "(7, 2)\n"
     ]
    }
   ],
   "source": [
    "## from ctypes import *\n",
    "#ctypes.cdll.LoadLibrary('')\n",
    "#lib1 = CDLL(\"deps/sparse_rrt/deps/trajopt/build/lib/libsco.so\")\n",
    "#lib2 = CDLL(\"deps/sparse_rrt/deps/trajopt/build/lib/libutils.so\")\n",
    "\n",
    "import sys\n",
    "sys.path.append('deps/sparse_rrt')\n",
    "sys.path.append('.')\n",
    "\n",
    "from sparse_rrt.planners import SST\n",
    "#from env.cartpole_obs import CartPoleObs\n",
    "#from env.cartpole import CartPole\n",
    "#from sparse_rrt.systems.cartpole import Cartpole\n",
    "from sparse_rrt.systems import standard_cpp_systems\n",
    "from sparse_rrt import _sst_module\n",
    "import numpy as np\n",
    "import time\n",
    "from tools.pcd_generation import rectangle_pcd\n",
    "from plan_utility.line_line_cc import *\n",
    "import pickle\n",
    "obs_list = []\n",
    "LENGTH = 20.\n",
    "width = 6.\n",
    "near = width * 1.2\n",
    "# convert from obs to point cloud\n",
    "# load generated point cloud\n",
    "obs_list_total = []\n",
    "obc_list_total = []\n",
    "for i in range(10):\n",
    "    file = open('/media/arclabdl1/HD1/YLmiao/data/kinodynamic/cartpole_obs/obs_%d.pkl' % (i), 'rb')\n",
    "    obs_list_total.append(pickle.load(file))\n",
    "    file = open('/media/arclabdl1/HD1/YLmiao/data/kinodynamic/cartpole_obs/obc_%d.pkl' % (i), 'rb')\n",
    "    obc_list_total.append(pickle.load(file))\n",
    "\n",
    "#[(0, 932), (1, 935), (2, 923), (8, 141), (5,931), (6, 969), (7, 927)]\n",
    "# (5,931), (6, 286)\n",
    "obs_idx = 3\n",
    "\n",
    "p_idx = 1829\n",
    "# Create custom system\n",
    "#obs_list = [[-10., -3.],\n",
    "#            [0., 3.],\n",
    "#            [10, -3.]]\n",
    "obs_list = obs_list_total[obs_idx]\n",
    "obc_list = obc_list_total[obs_idx]\n",
    "print('generated.')\n",
    "print(obs_list.shape)"
   ]
  },
  {
   "cell_type": "code",
   "execution_count": 2,
   "metadata": {
    "collapsed": false
   },
   "outputs": [
    {
     "data": {
      "text/plain": [
       "\"\\nfor p_idx in range(900, 1000):\\n    sgs = open('/media/arclabdl1/HD1/YLmiao/data/kinodynamic/acrobot_obs_backup/%d/start_goal_%d.pkl' % (obs_idx, p_idx), 'rb')\\n    sgs = pickle.load(sgs)\\n    dis = np.abs(sgs[1]-np.array([np.pi, 0, 0., 0.]))\\n    if dis[0] >= np.pi:\\n        dis[0] = 2*np.pi - dis[0]\\n    if dis[1] >= np.pi:\\n        dis[1] = 2*np.pi - dis[1]\\n        \\n    if np.linalg.norm(dis) <= 1e-1:\\n        break\\nprint(p_idx)\\n\""
      ]
     },
     "execution_count": 2,
     "metadata": {},
     "output_type": "execute_result"
    }
   ],
   "source": [
    "# search for goal\n",
    "\"\"\"\n",
    "for p_idx in range(900, 1000):\n",
    "    sgs = open('/media/arclabdl1/HD1/YLmiao/data/kinodynamic/acrobot_obs_backup/%d/start_goal_%d.pkl' % (obs_idx, p_idx), 'rb')\n",
    "    sgs = pickle.load(sgs)\n",
    "    dis = np.abs(sgs[1]-np.array([np.pi, 0, 0., 0.]))\n",
    "    if dis[0] >= np.pi:\n",
    "        dis[0] = 2*np.pi - dis[0]\n",
    "    if dis[1] >= np.pi:\n",
    "        dis[1] = 2*np.pi - dis[1]\n",
    "        \n",
    "    if np.linalg.norm(dis) <= 1e-1:\n",
    "        break\n",
    "print(p_idx)\n",
    "\"\"\""
   ]
  },
  {
   "cell_type": "code",
   "execution_count": 3,
   "metadata": {
    "collapsed": false
   },
   "outputs": [],
   "source": [
    "# load path\n",
    "path = open('/media/arclabdl1/HD1/YLmiao/data/kinodynamic/cartpole_obs/%d/path_%d.pkl' % (obs_idx, p_idx), 'rb')\n",
    "path = pickle.load(path)\n",
    "controls = open('/media/arclabdl1/HD1/YLmiao/data/kinodynamic/cartpole_obs/%d/control_%d.pkl' % (obs_idx, p_idx), 'rb')\n",
    "controls = pickle.load(controls)\n",
    "costs = open('/media/arclabdl1/HD1/YLmiao/data/kinodynamic/cartpole_obs/%d/cost_%d.pkl' % (obs_idx, p_idx), 'rb')\n",
    "costs = pickle.load(costs)\n",
    "sgs = open('/media/arclabdl1/HD1/YLmiao/data/kinodynamic/cartpole_obs/%d/start_goal_%d.pkl' % (obs_idx, p_idx), 'rb')\n",
    "sgs = pickle.load(sgs)"
   ]
  },
  {
   "cell_type": "code",
   "execution_count": 4,
   "metadata": {
    "collapsed": true
   },
   "outputs": [],
   "source": [
    "from plan_utility.line_line_cc import line_line_cc\n",
    "\n",
    "def IsInCollision(x, obc, obc_width=4.):\n",
    "    I = 10\n",
    "    L = 2.5\n",
    "    M = 10\n",
    "    m = 5\n",
    "    g = 9.8\n",
    "    H = 0.5\n",
    "\n",
    "    STATE_X = 0\n",
    "    STATE_V = 1\n",
    "    STATE_THETA = 2\n",
    "    STATE_W = 3\n",
    "    CONTROL_A = 0\n",
    "\n",
    "    MIN_X = -30\n",
    "    MAX_X = 30\n",
    "    MIN_V = -40\n",
    "    MAX_V = 40\n",
    "    MIN_W = -2\n",
    "    MAX_W = 2\n",
    "\n",
    "\n",
    "    if x[0] < MIN_X or x[0] > MAX_X:\n",
    "        return True\n",
    "\n",
    "    H = 0.5\n",
    "    pole_x1 = x[0]\n",
    "    pole_y1 = H\n",
    "    pole_x2 = x[0] + L * np.sin(x[2])\n",
    "    pole_y2 = H + L * np.cos(x[2])\n",
    "\n",
    "\n",
    "    for i in range(len(obc)):\n",
    "        for j in range(0, 8, 2):\n",
    "            x1 = obc[i][j]\n",
    "            y1 = obc[i][j+1]\n",
    "            x2 = obc[i][(j+2) % 8]\n",
    "            y2 = obc[i][(j+3) % 8]\n",
    "            if line_line_cc(pole_x1, pole_y1, pole_x2, pole_y2, x1, y1, x2, y2):\n",
    "                return True\n",
    "    return False\n"
   ]
  },
  {
   "cell_type": "code",
   "execution_count": 5,
   "metadata": {
    "collapsed": true
   },
   "outputs": [],
   "source": [
    "def wrap_angle(x, system):\n",
    "    circular = system.is_circular_topology()\n",
    "    res = np.array(x)\n",
    "    for i in range(len(x)):\n",
    "        if circular[i]:\n",
    "            # use our previously saved version\n",
    "            res[i] = x[i] - np.floor(x[i] / (2*np.pi))*(2*np.pi)\n",
    "            if res[i] > np.pi:\n",
    "                res[i] = res[i] - 2*np.pi\n",
    "    return res\n"
   ]
  },
  {
   "cell_type": "code",
   "execution_count": 6,
   "metadata": {
    "collapsed": false
   },
   "outputs": [],
   "source": [
    "from visual.visualizer import Visualizer\n",
    "import matplotlib.pyplot as plt\n",
    "import matplotlib.animation as animation\n",
    "import matplotlib as mpl\n",
    "import matplotlib.patches as patches\n",
    "from matplotlib.colors import LinearSegmentedColormap\n",
    "class CartpoleVisualizer(Visualizer):\n",
    "    def __init__(self, system, params):\n",
    "        super(CartpoleVisualizer, self).__init__(system, params)\n",
    "        self.dt = 2\n",
    "        self.fig1 = plt.figure(figsize=(25,6))\n",
    "        self.fig2 = plt.figure(figsize=(25,20))\n",
    "        self.ax1 = self.fig1.add_subplot(1,1,1)\n",
    "        self.ax2 = self.fig2.add_subplot(1,1,1)\n",
    "\n",
    "        #self.fig = plt.gcf()\n",
    "        #self.fig.set_figheight(3)\n",
    "        #self.fig.set_figwidth(30)\n",
    "        #self.ax1 = plt.subplot(121)\n",
    "        #self.ax2 = plt.subplot(122)\n",
    "    def _init(self):\n",
    "        ##### handle the animation\n",
    "        # clear the current ax\n",
    "        print(\"in init\")\n",
    "        ax = self.ax1\n",
    "        ax.clear()\n",
    "        # add patches\n",
    "        state = self.states[0]\n",
    "        self.pole = patches.Rectangle((state[0]-self.params['pole_w']/2,self.params['cart_h']),\\\n",
    "                                       self.params['pole_w'],self.params['pole_l'],\\\n",
    "                                      linewidth=.5,edgecolor='green',facecolor='green')\n",
    "        self.cart = patches.Rectangle((state[0]-self.params['cart_w']/2,0),\\\n",
    "                                       self.params['cart_w'],self.params['cart_h'],\\\n",
    "                                      linewidth=.5,edgecolor='green',facecolor='green')\n",
    "        self.recs = []\n",
    "        self.recs.append(self.pole)\n",
    "        self.recs.append(self.cart)\n",
    "        for i in range(len(self.obs)):\n",
    "            x, y = self.obs[i]\n",
    "            obs = patches.Rectangle((x-self.params['obs_w']/2,y-params['obs_h']/2),\\\n",
    "                                       self.params['obs_w'],self.params['obs_h'],\\\n",
    "                                      linewidth=.5,edgecolor='black',facecolor='black')\n",
    "            self.recs.append(obs)\n",
    "            ax.add_patch(obs)\n",
    "        # transform pole according to state\n",
    "        t = mpl.transforms.Affine2D().rotate_deg_around(state[0], self.params['cart_h'], \\\n",
    "                                                        -state[2]/np.pi * 180) + ax.transData\n",
    "        self.pole.set_transform(t)\n",
    "        ax.add_patch(self.pole)\n",
    "        ax.add_patch(self.cart)\n",
    "\n",
    "        #### handle search space\n",
    "        ax = self.ax2\n",
    "        ax.clear()\n",
    "        ax.set_xlim(-25, 25)\n",
    "        ax.set_ylim(-np.pi, np.pi)\n",
    "\n",
    "        dx = 1\n",
    "        dtheta = 0.1\n",
    "        feasible_points = []\n",
    "        infeasible_points = []\n",
    "        imin = 0\n",
    "        imax = int(2*30./dx)\n",
    "        jmin = 0\n",
    "        jmax = int(2*np.pi/dtheta)\n",
    "\n",
    "        for i in range(imin, imax):\n",
    "            for j in range(jmin, jmax):\n",
    "                x = np.array([dx*i-30, 0., dtheta*j-np.pi, 0.])\n",
    "                if IsInCollision(x, self.cc_obs):\n",
    "                    infeasible_points.append(x)\n",
    "                else:\n",
    "                    feasible_points.append(x)\n",
    "        feasible_points = np.array(feasible_points)\n",
    "        infeasible_points = np.array(infeasible_points)\n",
    "        \n",
    "        print('feasible points')\n",
    "        print(feasible_points)\n",
    "        print('infeasible points')\n",
    "        print(infeasible_points)\n",
    "        #scat_feas =ax.scatter(feasible_points[:,0], feasible_points[:,2], c='yellow')\n",
    "        scat_infeas = ax.scatter(infeasible_points[:,0], infeasible_points[:,2], c='black')\n",
    "\n",
    "        #self.recs.append(scat_feas)\n",
    "        self.recs.append(scat_infeas)\n",
    "\n",
    "        scat_state = ax.scatter(state[0], state[2], c='green')\n",
    "        self.recs.append(scat_state)\n",
    "        print(\"after init\")\n",
    "\n",
    "        return self.recs\n",
    "    def _animate(self, i):\n",
    "        print('animating, frame %d/%d' % (i, self.total))\n",
    "        \n",
    "        ax = self.ax1\n",
    "        ax.set_xlim(-25, 25)\n",
    "        ax.set_ylim(-6, 6)\n",
    "        state = self.states[i]\n",
    "        self.recs[0].set_xy((state[0]-self.params['pole_w']/2,self.params['cart_h']))\n",
    "        t = mpl.transforms.Affine2D().rotate_deg_around(state[0], self.params['cart_h'], \\\n",
    "                                                        -state[2]/np.pi * 180) + ax.transData\n",
    "        self.recs[0].set_transform(t)\n",
    "        self.recs[1].set_xy((state[0]-self.params['cart_w']/2,0))\n",
    "\n",
    "\n",
    "        # handle search space\n",
    "        ax = self.ax2\n",
    "        ax.set_xlim(-25, 25)\n",
    "        ax.set_ylim(-np.pi, np.pi)\n",
    "        self.recs[-1].set_offsets([state[0], state[2]])\n",
    "        # print location of cart\n",
    "        return self.recs\n",
    "\n",
    "\n",
    "    def animate(self, states, actions, costs, obstacles, sg, wrap_system):\n",
    "        '''\n",
    "        given a list of states, actions and obstacles, animate the robot\n",
    "        '''\n",
    "\n",
    "        new_obs_i = []\n",
    "        obs_width = 4.0\n",
    "        for k in range(len(obstacles)):\n",
    "            obs_pt = []\n",
    "            obs_pt.append(obstacles[k][0]-obs_width/2)\n",
    "            obs_pt.append(obstacles[k][1]-obs_width/2)\n",
    "            obs_pt.append(obstacles[k][0]-obs_width/2)\n",
    "            obs_pt.append(obstacles[k][1]+obs_width/2)\n",
    "            obs_pt.append(obstacles[k][0]+obs_width/2)\n",
    "            obs_pt.append(obstacles[k][1]+obs_width/2)\n",
    "            obs_pt.append(obstacles[k][0]+obs_width/2)\n",
    "            obs_pt.append(obstacles[k][1]-obs_width/2)\n",
    "            new_obs_i.append(obs_pt)\n",
    "        obs_i = new_obs_i\n",
    "        self.cc_obs = obs_i\n",
    "\n",
    "        # transform the waypoint states and actions into trajectory\n",
    "        traj = []\n",
    "        s = states[0]\n",
    "        for i in range(len(states)-1):\n",
    "            print('state: %d, remaining: %d' % (i, len(states)-i))\n",
    "            \n",
    "            \n",
    "            action = actions[i]\n",
    "            # number of steps for propagtion\n",
    "            #num_steps = int(np.round(costs[i]/self.params['integration_step']))\n",
    "            num_steps = 100000\n",
    "            for j in range(num_steps):\n",
    "                traj.append(np.array(s))\n",
    "                #print(\"porpagating...\")\n",
    "                #print(s)\n",
    "                #print('st:')\n",
    "                #print(sT)\n",
    "                s = self.system(s, action, self.params['integration_step'])\n",
    "                assert not IsInCollision(s, obs_i)\n",
    "                if np.linalg.norm(s - states[i+1]) <= 1e-3:\n",
    "                    break\n",
    "\n",
    "\n",
    "\n",
    "        traj = np.array(traj)\n",
    "        print(\"animating...\")\n",
    "        # animate\n",
    "        self.states = traj\n",
    "        self.obs = obstacles\n",
    "        print(len(self.states))\n",
    "        self.total = len(self.states)\n",
    "        self._init()\n",
    "        \n",
    "        to_plot_list_x = []\n",
    "        to_plot_list_y = []\n",
    "        traj_recs = []\n",
    "        plot_step_sz = 50\n",
    "        for i in list(range(1,len(traj))) + [0]:\n",
    "            if i % plot_step_sz == 0:\n",
    "                # plot the scene change\n",
    "                if i == 0:\n",
    "                    pole_color = \"green\"\n",
    "                    cart_color = \"green\"\n",
    "                elif i+plot_step_sz >= len(traj):\n",
    "                    pole_color = \"red\"\n",
    "                    cart_color = \"red\"\n",
    "                else:\n",
    "                    pole_color = \"blue\"\n",
    "                    cart_color = \"blue\"\n",
    "                state = traj[i]\n",
    "                pole = patches.Rectangle((state[0]-self.params['pole_w']/2,self.params['cart_h']),\\\n",
    "                                               self.params['pole_w'],self.params['pole_l'],\\\n",
    "                                              linewidth=.5,edgecolor=pole_color,facecolor=pole_color)\n",
    "                cart = patches.Rectangle((state[0]-self.params['cart_w']/2,0),\\\n",
    "                                               self.params['cart_w'],self.params['cart_h'],\\\n",
    "                                              linewidth=.5,edgecolor=cart_color,facecolor=cart_color)\n",
    "\n",
    "                traj_recs.append(pole)\n",
    "                traj_recs.append(cart)\n",
    "                ax = self.ax1\n",
    "                ax.set_xlim(-25, 25)\n",
    "                ax.set_ylim(-6, 6)\n",
    "                ax.add_patch(pole)\n",
    "                ax.add_patch(cart)\n",
    "                pole.set_xy((state[0]-self.params['pole_w']/2,self.params['cart_h']))\n",
    "                t = mpl.transforms.Affine2D().rotate_deg_around(state[0], self.params['cart_h'], \\\n",
    "                                                                -state[2]/np.pi * 180) + ax.transData\n",
    "                pole.set_transform(t)\n",
    "                cart.set_xy((state[0]-self.params['cart_w']/2,0))\n",
    "                ax.axis('off')\n",
    "\n",
    "            # plot in the state space    \n",
    "            ax = self.ax2\n",
    "            traj_to_plot = wrap_angle(traj[i], wrap_system)\n",
    "            scat_state = ax.scatter(traj_to_plot[0], traj_to_plot[2], c='blue', s=25.0)\n",
    "\n",
    "        colors = ['green', 'red']\n",
    "        \n",
    "        #ax = self.ax1\n",
    "        #cm = LinearSegmentedColormap.from_list(\"Custom\", colors, N=len(to_plot_list_x))\n",
    "        \"\"\"\n",
    "        for i in range(len(to_plot_list_x)):\n",
    "            #ax.plot(to_plot_list_x[i], to_plot_list_y[i], alpha=float(i)/len(to_plot_list_x), c=cm(float(i)/len(to_plot_list_x)))\n",
    "            if i == 0:\n",
    "                ax.plot(to_plot_list_x[i], to_plot_list_y[i], alpha=1, c='green')\n",
    "            else:\n",
    "                ax.plot(to_plot_list_x[i], to_plot_list_y[i], alpha=float(i)/len(to_plot_list_x), c='blue')\n",
    "        \"\"\"\n",
    "            \n",
    "        # start and goal\n",
    "        ax = self.ax2\n",
    "        scat_state = ax.scatter(sg[0][0], sg[0][2], c='green', s=50.0)\n",
    "        scat_state = ax.scatter(sg[1][0], sg[1][2], c='red', s=50.0, marker='*')\n",
    "        ax.axis('off')\n",
    "        plt.subplots_adjust(wspace=0, hspace=0)\n",
    "        self.fig1.savefig(\"cartpole_sst_%d_p_%d_workspace.pdf\" % (obs_idx, p_idx), bbox_inches='tight', pad_inches = 0)\n",
    "        self.fig2.savefig(\"cartpole_sst_%d_p_%d_statespace.pdf\" % (obs_idx, p_idx), bbox_inches='tight', pad_inches = 0)\n",
    "        self.fig1.show()\n",
    "        self.fig2.show()\n",
    "        \n",
    "        \n",
    "        \"\"\"\n",
    "        # for thesis\n",
    "        fig = plt.figure()\n",
    "        ax = plt.subplot(121)\n",
    "        ax.set_xlim(-40, 40)\n",
    "        ax.set_ylim(-40, 40)\n",
    "        fig.set_figheight(5)\n",
    "        fig.set_figwidth(10)\n",
    "        \n",
    "        for i in range(len(self.obs)):\n",
    "            x, y = self.obs[i]\n",
    "            obs = patches.Rectangle((x-self.params['obs_w']/2,y-params['obs_h']/2),\\\n",
    "                                       self.params['obs_w'],self.params['obs_h'],\\\n",
    "                                      linewidth=.5,edgecolor='black',facecolor='black')\n",
    "            self.recs.append(obs)\n",
    "            ax.add_patch(obs)\n",
    "        ax.plot(to_plot_list_x[0], to_plot_list_y[0], alpha=1, c='green')\n",
    "        ax.plot(to_plot_list_x[-1], to_plot_list_y[-1], alpha=1, c='red')\n",
    "        \n",
    "        ax = plt.subplot(122)\n",
    "        ax.set_xlim(-np.pi, np.pi)\n",
    "        ax.set_ylim(-np.pi, np.pi)\n",
    "        dtheta = 0.1\n",
    "        feasible_points = []\n",
    "        infeasible_points = []\n",
    "        imin = 0\n",
    "        imax = int(2*np.pi/dtheta)\n",
    "\n",
    "        for i in range(imin, imax):\n",
    "            for j in range(imin, imax):\n",
    "                x = np.array([dtheta*i-np.pi, dtheta*j-np.pi, 0., 0.])\n",
    "                if IsInCollision(x, self.cc_obs):\n",
    "                    infeasible_points.append(x)\n",
    "                else:\n",
    "                    feasible_points.append(x)\n",
    "        feasible_points = np.array(feasible_points)\n",
    "        infeasible_points = np.array(infeasible_points)\n",
    "\n",
    "        print('feasible points')\n",
    "        print(feasible_points)\n",
    "        print('infeasible points')\n",
    "        print(infeasible_points)\n",
    "        #scat_feas =ax.scatter(feasible_points[:,0], feasible_points[:,1], c='white')\n",
    "        scat_infeas = ax.scatter(infeasible_points[:,0], infeasible_points[:,1], c='black')\n",
    "        scat_state = ax.scatter(sg[0][0], sg[0][1], c='green', s=50.0)\n",
    "        scat_state = ax.scatter(sg[1][0], sg[1][1], c='red', s=50.0, marker='*')\n",
    "        \"\"\"\n"
   ]
  },
  {
   "cell_type": "code",
   "execution_count": 7,
   "metadata": {
    "collapsed": false
   },
   "outputs": [
    {
     "name": "stdout",
     "output_type": "stream",
     "text": [
      "states:\n",
      "[[ 2.16127925e+01  0.00000000e+00  1.52666725e+00  0.00000000e+00]\n",
      " [ 2.15266044e+01 -1.34317518e+00  1.50323557e+00 -3.64510027e-01]\n",
      " [ 2.12751806e+01 -3.34446150e+00  1.44958128e+00 -6.28488365e-01]\n",
      " [ 2.13279335e+01  4.04260818e+00  8.87157434e-01 -2.00000000e+00]\n",
      " [ 2.18153538e+01  5.95320426e+00  6.91157434e-01 -2.00000000e+00]\n",
      " [ 2.27898532e+01 -8.33922733e-01  1.99934932e-01 -5.23952891e-01]\n",
      " [ 2.14549659e+01 -7.05208333e+00  3.04809373e-01  1.11534376e+00]\n",
      " [ 1.84398901e+01 -1.25129128e+01  8.20038949e-01  2.00000000e+00]\n",
      " [ 1.62077330e+01 -1.50342774e+01  1.14339502e+00  1.97120437e+00]\n",
      " [ 1.38022290e+01 -1.70809122e+01  1.42287109e+00  1.71932032e+00]\n",
      " [ 6.44582627e+00 -2.31639598e+01  1.84525277e+00  4.39768379e-01]\n",
      " [-1.00294059e-02 -2.01522292e+01  1.89181615e+00 -1.22920016e-01]\n",
      " [-2.03574309e+00 -1.95539079e+01  1.86768005e+00 -3.55772735e-01]\n",
      " [-6.42180980e+00 -1.52040183e+01  1.72983959e+00 -7.73447627e-01]\n",
      " [-8.69760817e+00 -1.21525311e+01  1.56970889e+00 -1.18572736e+00]\n",
      " [-9.47349497e+00 -1.13268511e+01  1.48496999e+00 -1.39186083e+00]\n",
      " [-1.15526304e+01 -6.09678412e+00  1.06038425e+00 -2.00000000e+00]\n",
      " [-1.22656793e+01  9.00665085e-01  5.28384249e-01 -2.00000000e+00]\n",
      " [-1.18753562e+01  3.64014083e+00  1.84384249e-01 -2.00000000e+00]\n",
      " [-1.10109799e+01  7.43191129e+00 -1.27615751e-01 -2.00000000e+00]\n",
      " [-7.00606295e+00  1.41809114e+01 -8.55615751e-01 -2.00000000e+00]\n",
      " [-3.19883852e+00  1.80615333e+01 -1.32144504e+00 -1.87339615e+00]\n",
      " [ 1.59753347e-03  1.56798061e+01 -1.61478691e+00 -1.24256398e+00]\n",
      " [ 1.18921846e+00  1.47557282e+01 -1.70371461e+00 -1.03659836e+00]\n",
      " [ 4.81734768e+00  1.19427958e+01 -1.90355775e+00 -4.59593297e-01]\n",
      " [ 7.76088818e+00  5.85638857e+00 -2.01659233e+00 -2.63473912e-01]\n",
      " [ 8.33103846e+00  3.94011488e+00 -2.04406345e+00 -2.12454938e-01]\n",
      " [ 8.85880083e+00 -1.03717337e+00 -2.07918711e+00  7.65486209e-03]\n",
      " [ 8.75271186e+00 -2.11476194e+00 -2.07808775e+00  2.52696130e-02]\n",
      " [ 7.89304336e+00 -5.73256115e+00 -2.06799810e+00  6.90849897e-02]\n",
      " [ 6.66861819e+00 -8.88057408e+00 -2.05745088e+00  5.83563157e-02]\n",
      " [ 2.19933872e+00 -1.55746798e+01 -2.03078173e+00  9.81594844e-02]\n",
      " [-1.38623188e+00 -1.92711621e+01 -2.00441035e+00  1.64262601e-01]\n",
      " [-8.04294545e+00 -2.51420433e+01 -1.94074660e+00  2.82250302e-01]\n",
      " [-1.12537484e+01 -2.75331800e+01 -1.90119103e+00  3.72983342e-01]\n",
      " [-2.05228541e+01 -3.35045532e+01 -1.73366573e+00  7.85137705e-01]\n",
      " [-2.31744770e+01 -3.45167577e+01 -1.66535807e+00  9.74797379e-01]]\n",
      "state: 0, remaining: 37\n",
      "state: 1, remaining: 36\n",
      "state: 2, remaining: 35\n",
      "state: 3, remaining: 34\n",
      "state: 4, remaining: 33\n",
      "state: 5, remaining: 32\n",
      "state: 6, remaining: 31\n",
      "state: 7, remaining: 30\n",
      "state: 8, remaining: 29\n",
      "state: 9, remaining: 28\n",
      "state: 10, remaining: 27\n",
      "state: 11, remaining: 26\n",
      "state: 12, remaining: 25\n",
      "state: 13, remaining: 24\n",
      "state: 14, remaining: 23\n",
      "state: 15, remaining: 22\n",
      "state: 16, remaining: 21\n",
      "state: 17, remaining: 20\n",
      "state: 18, remaining: 19\n",
      "state: 19, remaining: 18\n",
      "state: 20, remaining: 17\n",
      "state: 21, remaining: 16\n",
      "state: 22, remaining: 15\n",
      "state: 23, remaining: 14\n",
      "state: 24, remaining: 13\n",
      "state: 25, remaining: 12\n",
      "state: 26, remaining: 11\n",
      "state: 27, remaining: 10\n",
      "state: 28, remaining: 9\n",
      "state: 29, remaining: 8\n",
      "state: 30, remaining: 7\n",
      "state: 31, remaining: 6\n",
      "state: 32, remaining: 5\n",
      "state: 33, remaining: 4\n",
      "state: 34, remaining: 3\n",
      "state: 35, remaining: 2\n",
      "animating...\n",
      "3951\n",
      "in init\n"
     ]
    },
    {
     "name": "stderr",
     "output_type": "stream",
     "text": [
      "/home/arclabdl1/YLmiao/kinodynamics/KinoMPNet/plan_utility/line_line_cc.py:2: RuntimeWarning: divide by zero encountered in double_scalars\n",
      "  uA = ((x4-x3)*(y1-y3) - (y4-y3)*(x1-x3)) / ((y4-y3)*(x2-x1) - (x4-x3)*(y2-y1))\n",
      "/home/arclabdl1/YLmiao/kinodynamics/KinoMPNet/plan_utility/line_line_cc.py:3: RuntimeWarning: divide by zero encountered in double_scalars\n",
      "  uB = ((x2-x1)*(y1-y3) - (y2-y1)*(x1-x3)) / ((y4-y3)*(x2-x1) - (x4-x3)*(y2-y1))\n"
     ]
    },
    {
     "name": "stdout",
     "output_type": "stream",
     "text": [
      "feasible points\n",
      "[[-30.           0.          -3.14159265   0.        ]\n",
      " [-30.           0.          -3.04159265   0.        ]\n",
      " [-30.           0.          -2.94159265   0.        ]\n",
      " ...\n",
      " [ 29.           0.           2.75840735   0.        ]\n",
      " [ 29.           0.           2.85840735   0.        ]\n",
      " [ 29.           0.           2.95840735   0.        ]]\n",
      "infeasible points\n",
      "[[-19.           0.           0.75840735   0.        ]\n",
      " [-19.           0.           0.85840735   0.        ]\n",
      " [-19.           0.           0.95840735   0.        ]\n",
      " ...\n",
      " [ 12.           0.          -1.04159265   0.        ]\n",
      " [ 12.           0.          -0.94159265   0.        ]\n",
      " [ 12.           0.          -0.84159265   0.        ]]\n",
      "after init\n"
     ]
    },
    {
     "data": {
      "image/png": "[encoded data removed]",
      "text/plain": [
       "<Figure size 1800x432 with 1 Axes>"
      ]
     },
     "metadata": {
      "needs_background": "light"
     },
     "output_type": "display_data"
    },
    {
     "data": {
      "image/png": "[encoded data removed]",
      "text/plain": [
       "<Figure size 1800x1440 with 1 Axes>"
      ]
     },
     "metadata": {
      "needs_background": "light"
     },
     "output_type": "display_data"
    }
   ],
   "source": [
    "params = {}\n",
    "params['pole_l'] = 2.5\n",
    "params['pole_w'] = 0.01\n",
    "params['cart_w'] = 1.\n",
    "params['cart_h'] = 0.5\n",
    "params['obs_w'] = 4\n",
    "params['obs_h'] = 4\n",
    "params['integration_step'] = 0.002\n",
    "\n",
    "system = _sst_module.PSOPTCartPole()\n",
    "cpp_propagator = _sst_module.SystemPropagator()\n",
    "dynamics = lambda x, u, t: cpp_propagator.propagate(system, x, u, t)\n",
    "\n",
    "vis = CartpoleVisualizer(dynamics, params)\n",
    "states = path\n",
    "actions = controls\n",
    "sgs[0] = wrap_angle(sgs[0], system)\n",
    "sgs[1] = wrap_angle(sgs[1], system)\n",
    "print('states:')\n",
    "print(states)\n",
    "anim = vis.animate(np.array(states), np.array(actions), np.array(costs), obs_list, np.array(sgs), system)\n",
    "#HTML(anim.to_html5_video())\n",
    "#anim.save('acrobot_env%d_path%d.mp4' % (obs_idx, p_idx))"
   ]
  },
  {
   "cell_type": "code",
   "execution_count": 8,
   "metadata": {
    "collapsed": false
   },
   "outputs": [
    {
     "name": "stdout",
     "output_type": "stream",
     "text": [
      "3\n",
      "1829\n"
     ]
    }
   ],
   "source": [
    "print(obs_idx)\n",
    "print(p_idx)"
   ]
  },
  {
   "cell_type": "code",
   "execution_count": 9,
   "metadata": {
    "collapsed": false
   },
   "outputs": [
    {
     "name": "stdout",
     "output_type": "stream",
     "text": [
      "(7, 1400, 2)\n",
      "(9800, 2)\n"
     ]
    },
    {
     "data": {
      "image/png": "[encoded data removed]",
      "text/plain": [
       "<Figure size 432x288 with 1 Axes>"
      ]
     },
     "metadata": {
      "needs_background": "light"
     },
     "output_type": "display_data"
    }
   ],
   "source": [
    "# visualize point cloud\n",
    "import matplotlib.pyplot as plt\n",
    "print(obc_list.shape)\n",
    "obc_all = np.concatenate(obc_list_total[obs_idx], axis=0)\n",
    "print(obc_all.shape)\n",
    "plt.scatter(obc_all[:,0], obc_all[:,1])\n",
    "plt.show()"
   ]
  },
  {
   "cell_type": "code",
   "execution_count": 10,
   "metadata": {
    "collapsed": false
   },
   "outputs": [
    {
     "name": "stdout",
     "output_type": "stream",
     "text": [
      "(9800, 2)\n"
     ]
    },
    {
     "data": {
      "image/png": "[encoded data removed]",
      "text/plain": [
       "<Figure size 432x288 with 1 Axes>"
      ]
     },
     "metadata": {
      "needs_background": "light"
     },
     "output_type": "display_data"
    },
    {
     "name": "stdout",
     "output_type": "stream",
     "text": [
      "(9800, 2)\n"
     ]
    },
    {
     "data": {
      "image/png": "[encoded data removed]",
      "text/plain": [
       "<Figure size 432x288 with 1 Axes>"
      ]
     },
     "metadata": {
      "needs_background": "light"
     },
     "output_type": "display_data"
    }
   ],
   "source": [
    "for i in range(2):\n",
    "    obc_all = np.concatenate(obc_list_total[i], axis=0)\n",
    "    print(obc_all.shape)\n",
    "    plt.scatter(obc_all[:,0], obc_all[:,1])\n",
    "    plt.show()"
   ]
  }
 ],
 "metadata": {
  "anaconda-cloud": {},
  "kernelspec": {
   "display_name": "Python [conda env:ylmiao_kino_c++]",
   "language": "python",
   "name": "conda-env-ylmiao_kino_c++-py"
  },
  "language_info": {
   "codemirror_mode": {
    "name": "ipython",
    "version": 3
   },
   "file_extension": ".py",
   "mimetype": "text/x-python",
   "name": "python",
   "nbconvert_exporter": "python",
   "pygments_lexer": "ipython3",
   "version": "3.6.10"
  }
 },
 "nbformat": 4,
 "nbformat_minor": 1
}
