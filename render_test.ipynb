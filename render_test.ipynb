{
 "cells": [
  {
   "cell_type": "code",
   "execution_count": 1,
   "metadata": {
    "collapsed": false
   },
   "outputs": [],
   "source": [
    "\"\"\"\n",
    "Given a list of states, render the environment\n",
    "\"\"\"\n",
    "from numpy import sin, cos\n",
    "import numpy as np\n",
    "import matplotlib.pyplot as plt\n",
    "import scipy.integrate as integrate\n",
    "import matplotlib.animation as animation\n",
    "import matplotlib as mpl\n",
    "import matplotlib.patches as patches\n",
    "from IPython.display import HTML\n",
    "\n",
    "class Visualizer():\n",
    "    def __init__(self, params):\n",
    "        self.params = params\n",
    "        self.dt = 0.05\n",
    "    def _init(self):\n",
    "        pass\n",
    "    def _animate(self, i):\n",
    "        pass\n",
    "    def animate(self, states, obstacles):\n",
    "        '''\n",
    "        given a list of states and obstacles, animate the robot\n",
    "        '''\n",
    "        pass\n"
   ]
  },
  {
   "cell_type": "code",
   "execution_count": 2,
   "metadata": {
    "collapsed": true
   },
   "outputs": [],
   "source": [
    "class CartPoleVisualizer(Visualizer):\n",
    "    def __init__(self, params):\n",
    "        super(CartPoleVisualizer, self).__init__(params)\n",
    "        self.dt = 0.05\n",
    "\n",
    "    def _init(self):\n",
    "        # clear the current ax\n",
    "        ax = plt.gca()\n",
    "        ax.clear()\n",
    "        # add patches\n",
    "        state = self.states[0]\n",
    "        self.pole = patches.Rectangle((state[0]-self.params['pole_w']/2,self.params['cart_h']),\\\n",
    "                                       self.params['pole_w'],self.params['pole_l'],\\\n",
    "                                      linewidth=.5,edgecolor='red',facecolor='red')\n",
    "        self.cart = patches.Rectangle((state[0]-self.params['cart_w']/2,0),\\\n",
    "                                       self.params['cart_w'],self.params['cart_h'],\\\n",
    "                                      linewidth=.5,edgecolor='blue',facecolor='blue')\n",
    "        self.recs = []\n",
    "        self.recs.append(self.pole)\n",
    "        self.recs.append(self.cart)\n",
    "        for i in range(len(self.obs)):\n",
    "            x, y = self.obs[i]\n",
    "            obs = patches.Rectangle((x-self.params['obs_w']/2,y-params['obs_h']/2),\\\n",
    "                                       self.params['obs_w'],self.params['obs_h'],\\\n",
    "                                      linewidth=.5,edgecolor='black',facecolor='black')\n",
    "            self.recs.append(obs)\n",
    "            ax.add_patch(obs)\n",
    "        # transform pole according to state\n",
    "        t = mpl.transforms.Affine2D().rotate_deg_around(state[0], self.params['cart_h'], \\\n",
    "                                                        state[2]/np.pi * 180) + ax.transData\n",
    "        self.pole.set_transform(t)\n",
    "        ax.add_patch(self.pole)\n",
    "        ax.add_patch(self.cart)\n",
    "        return self.recs\n",
    "    def _animate(self, i):\n",
    "        ax = plt.gca()\n",
    "        ax.set_xlim(-40, 40)\n",
    "        ax.set_ylim(-20, 20)\n",
    "        state = self.states[i]\n",
    "        self.pole.set_xy((state[0]-self.params['pole_w']/2,self.params['cart_h']))\n",
    "        t = mpl.transforms.Affine2D().rotate_deg_around(state[0], self.params['cart_h'], \\\n",
    "                                                        state[2]/np.pi * 180) + ax.transData\n",
    "        self.pole.set_transform(t)\n",
    "        self.cart.set_xy((state[0]-self.params['cart_w']/2,params['cart_h']))\n",
    "        return self.recs\n",
    "    def animate(self, states, obstacles):\n",
    "        '''\n",
    "        given a list of states and obstacles, animate the robot\n",
    "        '''\n",
    "        self.states = states\n",
    "        self.obs = obstacles\n",
    "        ani = animation.FuncAnimation(plt.gcf(), self._animate, range(1, len(self.states)),\n",
    "                                      interval=self.dt*1000, blit=True, init_func=self._init)\n",
    "        HTML(ani.to_html5_video())        \n",
    "        \n"
   ]
  },
  {
   "cell_type": "code",
   "execution_count": 3,
   "metadata": {
    "collapsed": false
   },
   "outputs": [
    {
     "data": {
      "image/png": "[encoded data removed]",
      "text/plain": [
       "<Figure size 432x288 with 1 Axes>"
      ]
     },
     "metadata": {
      "needs_background": "light"
     },
     "output_type": "display_data"
    }
   ],
   "source": [
    "params = {}\n",
    "params['pole_l'] = 2.5\n",
    "params['pole_w'] = 0.1\n",
    "params['cart_w'] = 1.\n",
    "params['cart_h'] = 0.5\n",
    "params['obs_w'] = 4\n",
    "params['obs_h'] = 4\n",
    "vis = CartPoleVisualizer(params)\n",
    "states = np.zeros((100,4))\n",
    "#states[:,2] = 0.\n",
    "obs = np.array([[5,5],[-5,5]])\n",
    "\n",
    "fig = plt.figure()\n",
    "vis.animate(states, obs)"
   ]
  }
 ],
 "metadata": {
  "anaconda-cloud": {},
  "kernelspec": {
   "display_name": "Python [conda env:ylmiao_kino]",
   "language": "python",
   "name": "conda-env-ylmiao_kino-py"
  },
  "language_info": {
   "codemirror_mode": {
    "name": "ipython",
    "version": 3
   },
   "file_extension": ".py",
   "mimetype": "text/x-python",
   "name": "python",
   "nbconvert_exporter": "python",
   "pygments_lexer": "ipython3",
   "version": "3.6.9"
  }
 },
 "nbformat": 4,
 "nbformat_minor": 1
}
