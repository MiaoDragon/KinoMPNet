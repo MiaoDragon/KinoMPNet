{
 "cells": [
  {
   "cell_type": "code",
   "execution_count": 2,
   "metadata": {
    "collapsed": false
   },
   "outputs": [
    {
     "name": "stdout",
     "output_type": "stream",
     "text": [
      "222.07919057705402\n",
      "67.55788377328366\n"
     ]
    }
   ],
   "source": [
    "import pickle\n",
    "import numpy as np\n",
    "\n",
    "times = []\n",
    "for i in range(10):\n",
    "    for j in range(1000):\n",
    "        file = open('data/acrobot_obs/%d/time_%d.pkl' % (i,j), 'rb')\n",
    "        p = pickle._Unpickler(file)\n",
    "        p.encoding = 'latin1'\n",
    "        t = p.load()\n",
    "        times.append(t)\n",
    "print(np.mean(times))\n",
    "print(np.std(times))"
   ]
  },
  {
   "cell_type": "code",
   "execution_count": null,
   "metadata": {
    "collapsed": true
   },
   "outputs": [],
   "source": []
  }
 ],
 "metadata": {
  "anaconda-cloud": {},
  "kernelspec": {
   "display_name": "Python [conda env:ylmiao_kino]",
   "language": "python",
   "name": "conda-env-ylmiao_kino-py"
  },
  "language_info": {
   "codemirror_mode": {
    "name": "ipython",
    "version": 3
   },
   "file_extension": ".py",
   "mimetype": "text/x-python",
   "name": "python",
   "nbconvert_exporter": "python",
   "pygments_lexer": "ipython3",
   "version": "3.6.9"
  }
 },
 "nbformat": 4,
 "nbformat_minor": 1
}
