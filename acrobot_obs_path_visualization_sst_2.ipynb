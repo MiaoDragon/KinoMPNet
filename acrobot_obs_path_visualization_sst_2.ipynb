{
 "cells": [
  {
   "cell_type": "code",
   "execution_count": 1,
   "metadata": {
    "collapsed": false
   },
   "outputs": [
    {
     "name": "stdout",
     "output_type": "stream",
     "text": [
      "generated.\n",
      "(4, 2)\n"
     ]
    }
   ],
   "source": [
    "## from ctypes import *\n",
    "#ctypes.cdll.LoadLibrary('')\n",
    "#lib1 = CDLL(\"deps/sparse_rrt/deps/trajopt/build/lib/libsco.so\")\n",
    "#lib2 = CDLL(\"deps/sparse_rrt/deps/trajopt/build/lib/libutils.so\")\n",
    "\n",
    "import sys\n",
    "sys.path.append('deps/sparse_rrt')\n",
    "sys.path.append('.')\n",
    "\n",
    "from sparse_rrt.planners import SST\n",
    "#from env.cartpole_obs import CartPoleObs\n",
    "#from env.cartpole import CartPole\n",
    "from sparse_rrt.systems.acrobot import Acrobot\n",
    "from sparse_rrt.systems import standard_cpp_systems\n",
    "from sparse_rrt import _sst_module\n",
    "import numpy as np\n",
    "import time\n",
    "from tools.pcd_generation import rectangle_pcd\n",
    "from plan_utility.line_line_cc import *\n",
    "import pickle\n",
    "obs_list = []\n",
    "LENGTH = 20.\n",
    "width = 6.\n",
    "near = width * 1.2\n",
    "# convert from obs to point cloud\n",
    "# load generated point cloud\n",
    "obs_list_total = []\n",
    "obc_list_total = []\n",
    "for i in range(10):\n",
    "    file = open('/media/arclabdl1/HD1/YLmiao/YLmiao_from_unicorn/YLmiao/data/kinodynamic/acrobot_obs_backup/obs_%d.pkl' % (i), 'rb')\n",
    "    obs_list_total.append(pickle.load(file))\n",
    "    file = open('/media/arclabdl1/HD1/YLmiao/YLmiao_from_unicorn/YLmiao/data/kinodynamic/acrobot_obs_backup/obc_%d.pkl' % (i), 'rb')\n",
    "    obc_list_total.append(pickle.load(file))\n",
    "\n",
    "#[(0, 932), (1, 935), (2, 923), (8, 141), (5,931), (6, 969), (7, 927)]\n",
    "# (5,931), (6, 286)\n",
    "obs_idx = 1\n",
    "\n",
    "p_idx = 972\n",
    "# Create custom system\n",
    "#obs_list = [[-10., -3.],\n",
    "#            [0., 3.],\n",
    "#            [10, -3.]]\n",
    "obs_list = obs_list_total[obs_idx]\n",
    "obc_list = obc_list_total[obs_idx]\n",
    "print('generated.')\n",
    "print(obs_list.shape)"
   ]
  },
  {
   "cell_type": "code",
   "execution_count": 2,
   "metadata": {
    "collapsed": false
   },
   "outputs": [],
   "source": [
    "# search for goal\n",
    "# for p_idx in range(900, 1000):\n",
    "#     sgs = open('/media/arclabdl1/HD1/YLmiao/data/kinodynamic/acrobot_obs_backup/%d/start_goal_%d.pkl' % (obs_idx, p_idx), 'rb')\n",
    "#     sgs = pickle.load(sgs)\n",
    "#     dis = np.abs(sgs[1]-np.array([np.pi, 0, 0., 0.]))\n",
    "#     if dis[0] >= np.pi:\n",
    "#         dis[0] = 2*np.pi - dis[0]\n",
    "#     if dis[1] >= np.pi:\n",
    "#         dis[1] = 2*np.pi - dis[1]\n",
    "        \n",
    "#     if np.linalg.norm(dis) <= 1e-1:\n",
    "#         break\n",
    "# print(p_idx)\n"
   ]
  },
  {
   "cell_type": "code",
   "execution_count": 3,
   "metadata": {
    "collapsed": false
   },
   "outputs": [],
   "source": [
    "# load path\n",
    "path = open('/media/arclabdl1/HD1/YLmiao/YLmiao_from_unicorn/YLmiao/data/kinodynamic/acrobot_obs_backup/%d/path_%d.pkl' % (obs_idx, p_idx), 'rb')\n",
    "path = pickle.load(path)\n",
    "controls = open('/media/arclabdl1/HD1/YLmiao/YLmiao_from_unicorn/YLmiao/data/kinodynamic/acrobot_obs_backup/%d/control_%d.pkl' % (obs_idx, p_idx), 'rb')\n",
    "controls = pickle.load(controls)\n",
    "costs = open('/media/arclabdl1/HD1/YLmiao/YLmiao_from_unicorn/YLmiao/data/kinodynamic/acrobot_obs_backup/%d/cost_%d.pkl' % (obs_idx, p_idx), 'rb')\n",
    "costs = pickle.load(costs)\n",
    "sgs = open('/media/arclabdl1/HD1/YLmiao/YLmiao_from_unicorn/YLmiao/data/kinodynamic/acrobot_obs_backup/%d/start_goal_%d.pkl' % (obs_idx, p_idx), 'rb')\n",
    "sgs = pickle.load(sgs)"
   ]
  },
  {
   "cell_type": "code",
   "execution_count": 4,
   "metadata": {
    "collapsed": true
   },
   "outputs": [],
   "source": [
    "from plan_utility.line_line_cc import line_line_cc\n",
    "\n",
    "def IsInCollision(x, obc, obc_width=6.):\n",
    "    STATE_THETA_1, STATE_THETA_2, STATE_V_1, STATE_V_2 = 0, 1, 2, 3\n",
    "    MIN_V_1, MAX_V_1 = -6., 6.\n",
    "    MIN_V_2, MAX_V_2 = -6., 6.\n",
    "    MIN_TORQUE, MAX_TORQUE = -4., 4.\n",
    "\n",
    "    MIN_ANGLE, MAX_ANGLE = -np.pi, np.pi\n",
    "\n",
    "    LENGTH = 20.\n",
    "    m = 1.0\n",
    "    lc = 0.5\n",
    "    lc2 = 0.25\n",
    "    l2 = 1.\n",
    "    I1 = 0.2\n",
    "    I2 = 1.0\n",
    "    l = 1.0\n",
    "    g = 9.81\n",
    "    pole_x0 = 0.\n",
    "    pole_y0 = 0.\n",
    "    pole_x1 = LENGTH * np.cos(x[STATE_THETA_1] - np.pi / 2)\n",
    "    pole_y1 = LENGTH * np.sin(x[STATE_THETA_1] - np.pi / 2)\n",
    "    pole_x2 = pole_x1 + LENGTH * np.cos(x[STATE_THETA_1] + x[STATE_THETA_2] - np.pi / 2)\n",
    "    pole_y2 = pole_y1 + LENGTH * np.sin(x[STATE_THETA_1] + x[STATE_THETA_2] - np.pi / 2)\n",
    "    for i in range(len(obc)):\n",
    "        for j in range(0, 8, 2):\n",
    "            x1 = obc[i][j]\n",
    "            y1 = obc[i][j+1]\n",
    "            x2 = obc[i][(j+2) % 8]\n",
    "            y2 = obc[i][(j+3) % 8]\n",
    "            if line_line_cc(pole_x0, pole_y0, pole_x1, pole_y1, x1, y1, x2, y2):\n",
    "                return True\n",
    "            if line_line_cc(pole_x1, pole_y1, pole_x2, pole_y2, x1, y1, x2, y2):\n",
    "                return True\n",
    "    return False\n"
   ]
  },
  {
   "cell_type": "code",
   "execution_count": 5,
   "metadata": {
    "collapsed": true
   },
   "outputs": [],
   "source": [
    "def wrap_angle(x, system):\n",
    "    circular = system.is_circular_topology()\n",
    "    res = np.array(x)\n",
    "    for i in range(len(x)):\n",
    "        if circular[i]:\n",
    "            # use our previously saved version\n",
    "            res[i] = x[i] - np.floor(x[i] / (2*np.pi))*(2*np.pi)\n",
    "            if res[i] > np.pi:\n",
    "                res[i] = res[i] - 2*np.pi\n",
    "    return res\n"
   ]
  },
  {
   "cell_type": "code",
   "execution_count": 6,
   "metadata": {
    "collapsed": false
   },
   "outputs": [],
   "source": [
    "from visual.visualizer import Visualizer\n",
    "import matplotlib.pyplot as plt\n",
    "import matplotlib.animation as animation\n",
    "import matplotlib as mpl\n",
    "import matplotlib.patches as patches\n",
    "from matplotlib.colors import LinearSegmentedColormap\n",
    "class AcrobotVisualizer(Visualizer):\n",
    "    def __init__(self, system, params):\n",
    "        super(AcrobotVisualizer, self).__init__(system, params)\n",
    "        self.dt = 2\n",
    "        self.fig = plt.gcf()\n",
    "        self.fig.set_figheight(5)\n",
    "        self.fig.set_figwidth(10)\n",
    "        self.ax1 = plt.subplot(121)\n",
    "        self.ax2 = plt.subplot(122)\n",
    "\n",
    "    def _state_to_xy(self, state):\n",
    "        angle0 = state[0]\n",
    "        angle1 = state[1]\n",
    "        x0 = 0.\n",
    "        y0 = 0.\n",
    "        x1 = LENGTH * np.cos(angle0 - np.pi/2)\n",
    "        y1 = LENGTH * np.sin(angle0 - np.pi/2)\n",
    "        x2 = x1 + LENGTH * np.cos(angle0 + angle1 - np.pi/2)\n",
    "        y2 = y1 + LENGTH * np.sin(angle0 + angle1 - np.pi/2)\n",
    "        return x0, y0, x1, y1, x2, y2\n",
    "\n",
    "\n",
    "    def _init(self):\n",
    "        ##### handle the animation\n",
    "        # clear the current ax\n",
    "        print(\"in init\")\n",
    "        ax = self.ax1\n",
    "        ax.clear()\n",
    "        # add patches\n",
    "        state = self.states[0]\n",
    "        print('state:')\n",
    "        print(state)\n",
    "        x0, y0, x1, y1, x2, y2 = self._state_to_xy(state)\n",
    "        print('x1: %f, y1: %f, x2: %f, y2: %f' % (x1, y1, x2, y2))\n",
    "        self.l1 = ax.plot([x0,x1,x2], [y0,y1,y2])[0]\n",
    "        self.recs = []\n",
    "        for i in range(len(self.obs)):\n",
    "            x, y = self.obs[i]\n",
    "            obs = patches.Rectangle((x-self.params['obs_w']/2,y-params['obs_h']/2),\\\n",
    "                                       self.params['obs_w'],self.params['obs_h'],\\\n",
    "                                      linewidth=.5,edgecolor=self.color_dict['obs_color'],facecolor=self.color_dict['obs_color'])\n",
    "            self.recs.append(obs)\n",
    "            ax.add_patch(obs)\n",
    "        self.recs.append(self.l1)\n",
    "\n",
    "        #### handle search space\n",
    "        ax = self.ax2\n",
    "        ax.clear()\n",
    "        ax.set_xlim(-np.pi, np.pi)\n",
    "        ax.set_ylim(-np.pi, np.pi)\n",
    "\n",
    "\n",
    "        dtheta = 0.1\n",
    "        feasible_points = []\n",
    "        infeasible_points = []\n",
    "        imin = 0\n",
    "        imax = int(2*np.pi/dtheta)\n",
    "\n",
    "\n",
    "        for i in range(imin, imax):\n",
    "            for j in range(imin, imax):\n",
    "                x = np.array([dtheta*i-np.pi, dtheta*j-np.pi, 0., 0.])\n",
    "                if IsInCollision(x, self.cc_obs):\n",
    "                    infeasible_points.append(x)\n",
    "                else:\n",
    "                    feasible_points.append(x)\n",
    "        feasible_points = np.array(feasible_points)\n",
    "        infeasible_points = np.array(infeasible_points)\n",
    "\n",
    "        print('feasible points')\n",
    "        print(feasible_points)\n",
    "        print('infeasible points')\n",
    "        print(infeasible_points)\n",
    "        #scat_feas =ax.scatter(feasible_points[:,0], feasible_points[:,1], c='white')\n",
    "        scat_infeas = ax.scatter(infeasible_points[:,0], infeasible_points[:,1], c=self.color_dict['obs_color'])\n",
    "\n",
    "        #self.recs.append(scat_feas)\n",
    "        self.recs.append(scat_infeas)\n",
    "\n",
    "        #scat_state = ax.scatter(state[0], state[1], c='green')\n",
    "        #self.recs.append(scat_state)\n",
    "        print(\"after init\")\n",
    "\n",
    "        return self.recs\n",
    "    def _animate(self, i):\n",
    "        print('animating, frame %d/%d' % (i, self.total))\n",
    "\n",
    "        ax = self.ax1\n",
    "        ax.set_xlim(-40, 40)\n",
    "        ax.set_ylim(-40, 40)\n",
    "        state = self.states[i]\n",
    "        x0, y0, x1, y1, x2, y2 = self._state_to_xy(state)\n",
    "        self.l1.set_xdata([x0,x1,x2])\n",
    "        self.l1.set_ydata([y0,y1,y2])\n",
    "\n",
    "        # handle search space\n",
    "        ax = self.ax2\n",
    "        ax.set_xlim(-np.pi, np.pi)\n",
    "        ax.set_ylim(-np.pi, np.pi)\n",
    "        self.recs[-1].set_offsets([state[0], state[1]])\n",
    "        # print location of point\n",
    "        return self.recs\n",
    "\n",
    "\n",
    "\n",
    "    def animate(self, states, actions, costs, obstacles, sg, wrap_system):\n",
    "        '''\n",
    "        given a list of states, actions and obstacles, animate the robot\n",
    "        '''\n",
    "\n",
    "        new_obs_i = []\n",
    "        obs_width = 6.0\n",
    "        for k in range(len(obstacles)):\n",
    "            obs_pt = []\n",
    "            obs_pt.append(obstacles[k][0]-obs_width/2)\n",
    "            obs_pt.append(obstacles[k][1]-obs_width/2)\n",
    "            obs_pt.append(obstacles[k][0]-obs_width/2)\n",
    "            obs_pt.append(obstacles[k][1]+obs_width/2)\n",
    "            obs_pt.append(obstacles[k][0]+obs_width/2)\n",
    "            obs_pt.append(obstacles[k][1]+obs_width/2)\n",
    "            obs_pt.append(obstacles[k][0]+obs_width/2)\n",
    "            obs_pt.append(obstacles[k][1]-obs_width/2)\n",
    "            new_obs_i.append(obs_pt)\n",
    "        obs_i = new_obs_i\n",
    "        self.cc_obs = obs_i\n",
    "\n",
    "        # transform the waypoint states and actions into trajectory\n",
    "        traj = []\n",
    "        s = states[0]\n",
    "        for i in range(len(states)-1):\n",
    "            print('state: %d, remaining: %d' % (i, len(states)-i))\n",
    "            \n",
    "            \n",
    "            action = actions[i]\n",
    "            # number of steps for propagtion\n",
    "            #num_steps = int(np.round(costs[i]/self.params['integration_step']))\n",
    "            num_steps = 100000\n",
    "            for j in range(num_steps):\n",
    "                traj.append(np.array(s))\n",
    "                #print(\"porpagating...\")\n",
    "                #print(s)\n",
    "                #print('st:')\n",
    "                #print(sT)\n",
    "                s = self.system(s, action, self.params['integration_step'])\n",
    "                assert not IsInCollision(s, obs_i)\n",
    "                if np.linalg.norm(s - states[i+1]) <= 1e-3:\n",
    "                    break\n",
    "\n",
    "\n",
    "        return np.array(traj)\n",
    "\n",
    "    \n",
    "    # plot the trajectory\n",
    "    def plot(self, traj, obstacles, sg, color_dict, fig, wrap_system):\n",
    "        self.fig = fig\n",
    "        self.fig.set_figheight(5)\n",
    "        self.fig.set_figwidth(10)\n",
    "        self.ax1 = fig.add_subplot(121)\n",
    "        self.ax2 = fig.add_subplot(122)\n",
    "\n",
    "        traj = np.array(traj)\n",
    "        self.states = traj\n",
    "        self.obs = obstacles\n",
    "        self.color_dict = color_dict\n",
    "        print(len(self.states))\n",
    "        self.total = len(self.states)\n",
    "        self._init()\n",
    "        \n",
    "        to_plot_list_x = []\n",
    "        to_plot_list_y = []\n",
    "        for i in range(len(traj)):\n",
    "            if i % 10 == 0:\n",
    "                x0, y0, x1, y1, x2, y2 = self._state_to_xy(traj[i])\n",
    "                ax = self.ax1\n",
    "                ax.set_xlim(-40, 40)\n",
    "                ax.set_ylim(-40, 40)\n",
    "                #if i == 0:\n",
    "                #    ax.plot([x0,x1,x2],[y0,y1,y2],alpha=1, c='green')\n",
    "                #else:\n",
    "                #    ax.plot([x0,x1,x2],[y0,y1,y2],alpha=float(i)/len(traj), c='blue')\n",
    "                to_plot_list_x.append([x0,x1,x2])\n",
    "                to_plot_list_y.append([y0,y1,y2])\n",
    "            ax = self.ax2\n",
    "            traj_to_plot = wrap_angle(traj[i], wrap_system)\n",
    "            scat_state = ax.scatter(traj_to_plot[0], traj_to_plot[1], c=color_dict['intermediate_color'], s=25.0)\n",
    "\n",
    "        colors = [color_dict['start_color'], color_dict['goal_color']]\n",
    "        \n",
    "        ax = self.ax1\n",
    "        cm = LinearSegmentedColormap.from_list(\"Custom\", colors, N=len(to_plot_list_x))\n",
    "        for i in range(len(to_plot_list_x)):\n",
    "            #ax.plot(to_plot_list_x[i], to_plot_list_y[i], alpha=float(i)/len(to_plot_list_x), c=cm(float(i)/len(to_plot_list_x)))\n",
    "            if i == 0:\n",
    "                ax.plot(to_plot_list_x[i], to_plot_list_y[i], alpha=1, c=color_dict['start_color'])\n",
    "            else:\n",
    "                ax.plot(to_plot_list_x[i], to_plot_list_y[i], alpha=float(i)/len(to_plot_list_x), c=color_dict['intermediate_color'])\n",
    "\n",
    "            \n",
    "        # start and goal\n",
    "        x0, y0, x1, y1, x2, y2 = self._state_to_xy(sg[1])\n",
    "        ax = self.ax1\n",
    "        ax.set_xlim(-40, 40)\n",
    "        ax.set_ylim(-40, 40)\n",
    "        ax.plot([x0,x1,x2],[y0,y1,y2],alpha=1, c=color_dict['goal_color'])\n",
    "        ax.axis('off')\n",
    "\n",
    "        ax = self.ax2\n",
    "        scat_state = ax.scatter(sg[0][0], sg[0][1], c=color_dict['start_color'], s=50.0)\n",
    "        scat_state = ax.scatter(sg[1][0], sg[1][1], c=color_dict['goal_color'], s=50.0, marker='*')\n",
    "        \n",
    "        \n",
    "        ax.axis('off')\n",
    "        return self.fig\n",
    "        \"\"\"\n",
    "        #plt.show()\n",
    "        plt.savefig(\"acrobot_sst_obs_%d_p_%d.png\" % (obs_idx, p_idx), bbox_inches='tight')\n",
    "\n",
    "        # for thesis\n",
    "        fig = plt.figure()\n",
    "        ax = plt.subplot(121)\n",
    "        ax.set_xlim(-40, 40)\n",
    "        ax.set_ylim(-40, 40)\n",
    "        fig.set_figheight(5)\n",
    "        fig.set_figwidth(10)\n",
    "        \n",
    "        for i in range(len(self.obs)):\n",
    "            x, y = self.obs[i]\n",
    "            obs = patches.Rectangle((x-self.params['obs_w']/2,y-params['obs_h']/2),\\\n",
    "                                       self.params['obs_w'],self.params['obs_h'],\\\n",
    "                                      linewidth=.5,edgecolor='black',facecolor='black')\n",
    "            self.recs.append(obs)\n",
    "            ax.add_patch(obs)\n",
    "        ax.plot(to_plot_list_x[0], to_plot_list_y[0], alpha=1, c='green')\n",
    "        ax.plot(to_plot_list_x[-1], to_plot_list_y[-1], alpha=1, c='red')\n",
    "\n",
    "        \n",
    "        ax = plt.subplot(122)\n",
    "        ax.set_xlim(-np.pi, np.pi)\n",
    "        ax.set_ylim(-np.pi, np.pi)\n",
    "        dtheta = 0.1\n",
    "        feasible_points = []\n",
    "        infeasible_points = []\n",
    "        imin = 0\n",
    "        imax = int(2*np.pi/dtheta)\n",
    "\n",
    "        for i in range(imin, imax):\n",
    "            for j in range(imin, imax):\n",
    "                x = np.array([dtheta*i-np.pi, dtheta*j-np.pi, 0., 0.])\n",
    "                if IsInCollision(x, self.cc_obs):\n",
    "                    infeasible_points.append(x)\n",
    "                else:\n",
    "                    feasible_points.append(x)\n",
    "        feasible_points = np.array(feasible_points)\n",
    "        infeasible_points = np.array(infeasible_points)\n",
    "\n",
    "        print('feasible points')\n",
    "        print(feasible_points)\n",
    "        print('infeasible points')\n",
    "        print(infeasible_points)\n",
    "        #scat_feas =ax.scatter(feasible_points[:,0], feasible_points[:,1], c='white')\n",
    "        scat_infeas = ax.scatter(infeasible_points[:,0], infeasible_points[:,1], c='black')\n",
    "        scat_state = ax.scatter(sg[0][0], sg[0][1], c='green', s=50.0)\n",
    "        scat_state = ax.scatter(sg[1][0], sg[1][1], c='red', s=50.0, marker='*')\n",
    "        \"\"\""
   ]
  },
  {
   "cell_type": "code",
   "execution_count": 7,
   "metadata": {
    "collapsed": false
   },
   "outputs": [
    {
     "name": "stdout",
     "output_type": "stream",
     "text": [
      "states:\n",
      "[[ 0.          0.          0.          0.        ]\n",
      " [ 0.09890424 -0.39835898 -0.29554773  0.21533826]\n",
      " [-0.24645337  0.71319078  0.92181739 -0.45454409]\n",
      " [ 0.17315784  0.55735503 -0.49333383  0.8630138 ]\n",
      " [-0.17559293 -1.49901806 -0.13851613 -0.32639743]\n",
      " [-0.16923314 -1.55167437  0.29207695 -0.44212925]\n",
      " [ 0.8266118  -3.11162283 -0.89622611  4.10857949]\n",
      " [-1.02832889  2.57504045  4.17758981 -0.71623321]\n",
      " [-0.48807996  2.43177585  4.84051478 -1.83602583]\n",
      " [ 0.58749771  1.79857035  4.4776132  -3.7959772 ]\n",
      " [-2.15913071 -1.91757152 -2.32864879  2.66036076]\n",
      " [-2.68827824 -1.2184716  -0.64924568  1.05323536]\n",
      " [-2.84262368 -0.89882737 -0.24593594  0.75408063]\n",
      " [-2.90141651 -0.5351539  -0.05652873  0.84146968]]\n",
      "state: 0, remaining: 14\n",
      "state: 1, remaining: 13\n",
      "state: 2, remaining: 12\n",
      "state: 3, remaining: 11\n",
      "state: 4, remaining: 10\n",
      "state: 5, remaining: 9\n",
      "state: 6, remaining: 8\n",
      "state: 7, remaining: 7\n",
      "state: 8, remaining: 6\n",
      "state: 9, remaining: 5\n",
      "state: 10, remaining: 4\n",
      "state: 11, remaining: 3\n",
      "state: 12, remaining: 2\n"
     ]
    },
    {
     "data": {
      "image/png": "[encoded data removed]",
      "text/plain": [
       "<Figure size 720x360 with 2 Axes>"
      ]
     },
     "metadata": {
      "needs_background": "light"
     },
     "output_type": "display_data"
    }
   ],
   "source": [
    "params = {}\n",
    "params['obs_w'] = width\n",
    "params['obs_h'] = width\n",
    "params['integration_step'] = 0.02\n",
    "system = _sst_module.PSOPTAcrobot()\n",
    "cpp_propagator = _sst_module.SystemPropagator()\n",
    "dynamics = lambda x, u, t: cpp_propagator.propagate(system, x, u, t)\n",
    "\n",
    "vis = AcrobotVisualizer(dynamics, params)\n",
    "states = path\n",
    "actions = controls\n",
    "sgs[0] = wrap_angle(sgs[0], system)\n",
    "sgs[1] = wrap_angle(sgs[1], system)\n",
    "print('states:')\n",
    "print(states)\n",
    "traj = vis.animate(np.array(states), np.array(actions), np.array(costs), obs_list, np.array(sgs), system)\n",
    "#HTML(anim.to_html5_video())\n",
    "#anim.save('acrobot_env%d_path%d.mp4' % (obs_idx, p_idx))"
   ]
  },
  {
   "cell_type": "code",
   "execution_count": 11,
   "metadata": {
    "collapsed": false
   },
   "outputs": [
    {
     "name": "stdout",
     "output_type": "stream",
     "text": [
      "558\n",
      "in init\n",
      "state:\n",
      "[0. 0. 0. 0.]\n",
      "x1: 0.000000, y1: -20.000000, x2: 0.000000, y2: -40.000000\n",
      "feasible points\n",
      "[[-3.14159265 -3.14159265  0.          0.        ]\n",
      " [-3.14159265 -3.04159265  0.          0.        ]\n",
      " [-3.14159265 -2.94159265  0.          0.        ]\n",
      " ...\n",
      " [ 2.95840735  2.75840735  0.          0.        ]\n",
      " [ 2.95840735  2.85840735  0.          0.        ]\n",
      " [ 2.95840735  2.95840735  0.          0.        ]]\n",
      "infeasible points\n",
      "[[-3.14159265  1.45840735  0.          0.        ]\n",
      " [-3.14159265  1.55840735  0.          0.        ]\n",
      " [-3.14159265  1.65840735  0.          0.        ]\n",
      " ...\n",
      " [ 2.95840735  1.75840735  0.          0.        ]\n",
      " [ 2.95840735  1.85840735  0.          0.        ]\n",
      " [ 2.95840735  1.95840735  0.          0.        ]]\n",
      "after init\n"
     ]
    },
    {
     "data": {
      "image/png": "[encoded data removed]",
      "text/plain": [
       "<Figure size 720x360 with 2 Axes>"
      ]
     },
     "metadata": {
      "needs_background": "light"
     },
     "output_type": "display_data"
    }
   ],
   "source": [
    "color_dict = {'start_color': 'springgreen', 'intermediate_color': 'dodgerblue', 'goal_color': 'red', 'obs_color':'slategray'}\n",
    "\n",
    "\n",
    "fig = plt.gcf()\n",
    "fig = vis.plot(traj, obs_list, np.array(sgs), color_dict, fig, system)\n",
    "\n",
    "fig.savefig(\"acrobot_sst_obs_%d_p_%d.pdf\" % (obs_idx, p_idx), bbox_inches='tight')\n",
    "plt.show()"
   ]
  },
  {
   "cell_type": "code",
   "execution_count": 9,
   "metadata": {
    "collapsed": false
   },
   "outputs": [
    {
     "name": "stdout",
     "output_type": "stream",
     "text": [
      "(4, 1400, 2)\n",
      "(5600, 2)\n"
     ]
    },
    {
     "data": {
      "image/png": "[encoded data removed]",
      "text/plain": [
       "<Figure size 432x288 with 1 Axes>"
      ]
     },
     "metadata": {
      "needs_background": "light"
     },
     "output_type": "display_data"
    }
   ],
   "source": [
    "# visualize point cloud\n",
    "import matplotlib.pyplot as plt\n",
    "print(obc_list.shape)\n",
    "obc_all = np.concatenate(obc_list_total[obs_idx], axis=0)\n",
    "print(obc_all.shape)\n",
    "plt.scatter(obc_all[:,0], obc_all[:,1])\n",
    "plt.show()"
   ]
  },
  {
   "cell_type": "code",
   "execution_count": 10,
   "metadata": {
    "collapsed": false
   },
   "outputs": [
    {
     "name": "stdout",
     "output_type": "stream",
     "text": [
      "(5600, 2)\n"
     ]
    },
    {
     "data": {
      "image/png": "[encoded data removed]",
      "text/plain": [
       "<Figure size 432x288 with 1 Axes>"
      ]
     },
     "metadata": {
      "needs_background": "light"
     },
     "output_type": "display_data"
    },
    {
     "name": "stdout",
     "output_type": "stream",
     "text": [
      "(5600, 2)\n"
     ]
    },
    {
     "data": {
      "image/png": "[encoded data removed]",
      "text/plain": [
       "<Figure size 432x288 with 1 Axes>"
      ]
     },
     "metadata": {
      "needs_background": "light"
     },
     "output_type": "display_data"
    }
   ],
   "source": [
    "for i in range(2):\n",
    "    obc_all = np.concatenate(obc_list_total[i], axis=0)\n",
    "    print(obc_all.shape)\n",
    "    plt.scatter(obc_all[:,0], obc_all[:,1])\n",
    "    plt.show()"
   ]
  }
 ],
 "metadata": {
  "anaconda-cloud": {},
  "kernelspec": {
   "display_name": "Python [conda env:ylmiao_kino]",
   "language": "python",
   "name": "conda-env-ylmiao_kino-py"
  },
  "language_info": {
   "codemirror_mode": {
    "name": "ipython",
    "version": 3
   },
   "file_extension": ".py",
   "mimetype": "text/x-python",
   "name": "python",
   "nbconvert_exporter": "python",
   "pygments_lexer": "ipython3",
   "version": "3.6.9"
  }
 },
 "nbformat": 4,
 "nbformat_minor": 1
}
